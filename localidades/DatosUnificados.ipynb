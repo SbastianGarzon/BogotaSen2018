{
 "cells": [
  {
   "cell_type": "code",
   "execution_count": 2,
   "metadata": {
    "collapsed": false
   },
   "outputs": [
    {
     "name": "stdout",
     "output_type": "stream",
     "text": [
      "Populating the interactive namespace from numpy and matplotlib\n"
     ]
    }
   ],
   "source": [
    "%pylab inline\n",
    "import pandas as pd\n",
    "import os "
   ]
  },
  {
   "cell_type": "markdown",
   "metadata": {},
   "source": [
    "Construcción base de datos:"
   ]
  },
  {
   "cell_type": "code",
   "execution_count": 7,
   "metadata": {
    "collapsed": false
   },
   "outputs": [],
   "source": [
    "#Inicializo las columnas con los nombres de las localidades que ya tienen datos\n",
    "localidades=os.listdir(\"Votaciones_localidades\")\n",
    "Nombreslocalidades=[]\n",
    "for i in localidades:\n",
    "    Nombreslocalidades.append(i[:-7])\n",
    "df1 = pd.DataFrame(columns=[Nombreslocalidades])\n",
    "df1= df1.rename_axis(None)"
   ]
  },
  {
   "cell_type": "code",
   "execution_count": 4,
   "metadata": {
    "collapsed": false
   },
   "outputs": [],
   "source": [
    "#Algoritmo que ingresa los datos a la tabla, la tabla solo contiene las localidades reportadas.\n",
    "Index=('P_Liberal','P_Conservador','P_Opcion_Ciudadana','P_Cambio_Radical','P_Alianza_Verde','P_MIRA','P_de_la_U','Polo','P_Centro_Democratico','P_SOMOS','FARC','Colombia_Justa_Libres','SI_SE_PUEDE',\"Union_con_Fortaleza\",\"Todos_somos_Colombia\",'Coalicion_Decencia','Voto_Blanco_Nacional','AICO','ASI','MAIS','SOBERANIA','MIA','RenovacionEtnica','CASIYOUREN','Voto_Blanco_Indigena','Nulos','No_Marcados',\"Potencial votantes\", \"Referencia\")\n",
    "for i in localidades:\n",
    "    temp=pd.read_csv(\"Votaciones_localidades/\"+str(i))\n",
    "    temp.index = Index\n",
    "    df1[str(i[:-7])] = temp.iloc[:-1,1].apply(pd.to_numeric)"
   ]
  },
  {
   "cell_type": "code",
   "execution_count": 5,
   "metadata": {
    "collapsed": false
   },
   "outputs": [
    {
     "data": {
      "text/plain": [
       "P_Liberal                 6.026469\n",
       "P_Conservador             4.037877\n",
       "P_Opcion_Ciudadana        1.116305\n",
       "P_Cambio_Radical          7.758618\n",
       "P_Alianza_Verde          22.762089\n",
       "P_MIRA                    4.505637\n",
       "P_de_la_U                 4.497369\n",
       "Polo                      6.274876\n",
       "P_Centro_Democratico     19.447954\n",
       "P_SOMOS                   0.985636\n",
       "FARC                      0.413441\n",
       "Colombia_Justa_Libres     4.597231\n",
       "SI_SE_PUEDE               0.085450\n",
       "Union_con_Fortaleza       0.137136\n",
       "Todos_somos_Colombia      0.371363\n",
       "Coalicion_Decencia        8.955108\n",
       "Voto_Blanco_Nacional      8.027440\n",
       "dtype: float64"
      ]
     },
     "execution_count": 5,
     "metadata": {},
     "output_type": "execute_result"
    }
   ],
   "source": [
    "#Porcentaje voto valido con datos escrutados\n",
    "a=df1.sum(axis=1)[:-11]\n",
    "b=a.sum()\n",
    "c=100*a/b\n",
    "c"
   ]
  },
  {
   "cell_type": "code",
   "execution_count": 8,
   "metadata": {
    "collapsed": false
   },
   "outputs": [
    {
     "data": {
      "text/plain": [
       "P_Liberal                130473\n",
       "P_Conservador             87420\n",
       "P_Opcion_Ciudadana        24168\n",
       "P_Cambio_Radical         167974\n",
       "P_Alianza_Verde          492799\n",
       "P_MIRA                    97547\n",
       "P_de_la_U                 97368\n",
       "Polo                     135851\n",
       "P_Centro_Democratico     421048\n",
       "P_SOMOS                   21339\n",
       "FARC                       8951\n",
       "Colombia_Justa_Libres     99530\n",
       "SI_SE_PUEDE                1850\n",
       "Union_con_Fortaleza        2969\n",
       "Todos_somos_Colombia       8040\n",
       "Coalicion_Decencia       193878\n",
       "Voto_Blanco_Nacional     173794\n",
       "dtype: int64"
      ]
     },
     "execution_count": 8,
     "metadata": {},
     "output_type": "execute_result"
    }
   ],
   "source": [
    "a"
   ]
  },
  {
   "cell_type": "code",
   "execution_count": null,
   "metadata": {
    "collapsed": false
   },
   "outputs": [],
   "source": []
  },
  {
   "cell_type": "code",
   "execution_count": null,
   "metadata": {
    "collapsed": true
   },
   "outputs": [],
   "source": []
  }
 ],
 "metadata": {
  "kernelspec": {
   "display_name": "Python 3",
   "language": "python",
   "name": "python3"
  },
  "language_info": {
   "codemirror_mode": {
    "name": "ipython",
    "version": 3
   },
   "file_extension": ".py",
   "mimetype": "text/x-python",
   "name": "python",
   "nbconvert_exporter": "python",
   "pygments_lexer": "ipython3",
   "version": "3.6.0"
  }
 },
 "nbformat": 4,
 "nbformat_minor": 2
}
