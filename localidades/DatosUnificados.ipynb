{
 "cells": [
  {
   "cell_type": "code",
   "execution_count": 6,
   "metadata": {
    "collapsed": false
   },
   "outputs": [
    {
     "name": "stdout",
     "output_type": "stream",
     "text": [
      "Populating the interactive namespace from numpy and matplotlib\n"
     ]
    }
   ],
   "source": [
    "%pylab inline\n",
    "import pandas as pd\n",
    "import os "
   ]
  },
  {
   "cell_type": "markdown",
   "metadata": {},
   "source": [
    "Construcción base de datos:"
   ]
  },
  {
   "cell_type": "code",
   "execution_count": 7,
   "metadata": {
    "collapsed": false
   },
   "outputs": [],
   "source": [
    "#Inicializo las columnas con los nombres de las localidades que ya tienen datos\n",
    "localidades=os.listdir(\"Votaciones_localidades\")\n",
    "Nombreslocalidades=[]\n",
    "for i in localidades:\n",
    "    Nombreslocalidades.append(i[:-7])\n",
    "df = pd.DataFrame(columns=[Nombreslocalidades])\n",
    "df= df.rename_axis(None)\n"
   ]
  },
  {
   "cell_type": "code",
   "execution_count": 8,
   "metadata": {
    "collapsed": false
   },
   "outputs": [],
   "source": [
    "#Algoritmo que ingresa los datos a la tabla, la tabla solo contiene las localidades reportadas.\n",
    "Index=('P_Liberal','P_Conservador','P_Opcion_Ciudadana','P_Cambio_Radical','P_Alianza_Verde','P_MIRA','P_de_la_U','Polo','P_Centro_Democratico','P_SOMOS','FARC','Colombia_Justa_Libres','SI_SE_PUEDE',\"Union_con_Fortaleza\",\"Todos_somos_Colombia\",'Coalicion_Decencia','Voto_Blanco_Nacional','AICO','ASI','MAIS','SOBERANIA','MIA','RenovacionEtnica','CASIYOUREN','Voto_Blanco_Indigena','Nulos','No_Marcados',\"Potencial votantes\", \"Referencia\")\n",
    "for i in localidades:\n",
    "    temp=pd.read_csv(\"Votaciones_localidades/\"+str(i))\n",
    "    temp.index = Index\n",
    "    df[str(i[:-7])] = temp.iloc[:-1,1].apply(pd.to_numeric)"
   ]
  },
  {
   "cell_type": "markdown",
   "metadata": {},
   "source": [
    "## Base de datos completa"
   ]
  },
  {
   "cell_type": "code",
   "execution_count": 9,
   "metadata": {
    "collapsed": false
   },
   "outputs": [],
   "source": [
    "#Suma el total de cada Item en Bogotá y genera un archivo CSV con la información\n",
    "dc=df.copy()\n",
    "\n",
    "dc[\"Total Bogota\"]=dc.sum(axis=1)\n",
    "dc.to_csv(\"../Bogota/Votacion_Bogota_Unificada.csv\")"
   ]
  },
  {
   "cell_type": "markdown",
   "metadata": {
    "collapsed": false
   },
   "source": [
    "## Circunscripcion nacional"
   ]
  },
  {
   "cell_type": "code",
   "execution_count": 10,
   "metadata": {
    "collapsed": false
   },
   "outputs": [],
   "source": [
    "#Suma el total de cada Item en Bogotá y genera un archivo CSV con la información de votos en circunscripcion nacional\n",
    "dfn=df[:-11].copy()\n",
    "dfn[\"Total Bogota\"]=dfn.sum(axis=1)\n",
    "dfn.to_csv(\"../Bogota/Circunscripcion_Nacional_Bogota.csv\")"
   ]
  },
  {
   "cell_type": "markdown",
   "metadata": {},
   "source": [
    "## Circunscripcion Indigena"
   ]
  },
  {
   "cell_type": "code",
   "execution_count": 11,
   "metadata": {
    "collapsed": false
   },
   "outputs": [],
   "source": [
    "#Suma el total de cada Item en Bogotá y genera un archivo CSV con la información de votos en circunscripcion indigena\n",
    "dfi=df[-11:-3].copy()\n",
    "dfi[\"Total Bogota\"]=dfi.sum(axis=1)\n",
    "dfi.to_csv(\"../Bogota/Circunscripcion_Indigena_Bogota.csv\")"
   ]
  },
  {
   "cell_type": "markdown",
   "metadata": {},
   "source": [
    "## Datos Participacion\n"
   ]
  },
  {
   "cell_type": "code",
   "execution_count": 12,
   "metadata": {
    "collapsed": false
   },
   "outputs": [],
   "source": [
    "#calcula los votantes validos en circunscripcion nacional\n",
    "Votantes_nacional=dfn.sum(axis=0).copy()\n",
    "#calcula los votantes validos en circunscripcion indigena\n",
    "Votantes_indigena=dfi.sum(axis=0).copy()\n",
    "#Copia votos nulos y no marcados\n",
    "dfp=df[-3:-1].copy()\n",
    "\n",
    "#Agrega los datos de votantes validos\n",
    "dfp[\"Total Bogota\"]=dfp.sum(axis=1)\n",
    "Votantes_nacional.name='Votos validos Circuns. Nacional'\n",
    "Votantes_indigena.name='Votos validos Circuns. Indigena'\n",
    "dfp=dfp.append([Votantes_indigena,Votantes_nacional]).copy()\n",
    "\n",
    "#Con todos los datos suma para determinar numero de votantes, es decir votos validos, nulos y no marcados sumados.\n",
    "Votantes=dfp.sum(axis=0)\n",
    "Votantes.name='Total Votantes*Validos+Nulos+No Marcados*'\n",
    "\n",
    "#Agrega datos de potencial de votantes, es decir numero de ciudadanos habilitados para votar\n",
    "potencial=dc.loc[\"Potencial votantes\"].copy()\n",
    "dfp=dfp.append([Votantes,potencial]).copy()\n",
    "Porcen_votantes=((100*dfp.loc[\"Total Votantes*Validos+Nulos+No Marcados*\"]/dfp.loc[\"Potencial votantes\"])).copy()\n",
    "\n",
    "##formato para 2 cifras significativas en porcentaje votantes\n",
    "Porcen_votantes.name=\"Porcentaje votantes(%)\"\n",
    "dfp=dfp.append(Porcen_votantes).copy()\n",
    "formato= lambda x: format(x,'.2f')\n",
    "dfp.loc[\"Porcentaje votantes(%)\"]=dfp.loc['Porcentaje votantes(%)'].apply(formato)\n",
    "dfp.to_csv(\"../Bogota/Participacion_bogota.csv\")"
   ]
  },
  {
   "cell_type": "code",
   "execution_count": null,
   "metadata": {
    "collapsed": false
   },
   "outputs": [],
   "source": []
  },
  {
   "cell_type": "code",
   "execution_count": null,
   "metadata": {
    "collapsed": false
   },
   "outputs": [],
   "source": []
  },
  {
   "cell_type": "code",
   "execution_count": null,
   "metadata": {
    "collapsed": false
   },
   "outputs": [],
   "source": []
  },
  {
   "cell_type": "code",
   "execution_count": null,
   "metadata": {
    "collapsed": true
   },
   "outputs": [],
   "source": []
  }
 ],
 "metadata": {
  "kernelspec": {
   "display_name": "Python 3",
   "language": "python",
   "name": "python3"
  },
  "language_info": {
   "codemirror_mode": {
    "name": "ipython",
    "version": 3
   },
   "file_extension": ".py",
   "mimetype": "text/x-python",
   "name": "python",
   "nbconvert_exporter": "python",
   "pygments_lexer": "ipython3",
   "version": "3.6.0"
  }
 },
 "nbformat": 4,
 "nbformat_minor": 2
}
