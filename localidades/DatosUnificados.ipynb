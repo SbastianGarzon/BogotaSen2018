{
 "cells": [
  {
   "cell_type": "code",
   "execution_count": 2,
   "metadata": {
    "collapsed": false
   },
   "outputs": [
    {
     "name": "stdout",
     "output_type": "stream",
     "text": [
      "Populating the interactive namespace from numpy and matplotlib\n"
     ]
    }
   ],
   "source": [
    "%pylab inline\n",
    "import pandas as pd\n",
    "import os "
   ]
  },
  {
   "cell_type": "markdown",
   "metadata": {},
   "source": [
    "Construcción base de datos:"
   ]
  },
  {
   "cell_type": "code",
   "execution_count": 3,
   "metadata": {
    "collapsed": false
   },
   "outputs": [
    {
     "name": "stdout",
     "output_type": "stream",
     "text": [
      "['ANTONIO_NARINO_OK.csv', 'CANDELARIA_OK.csv', 'CARCELES_OK.csv', 'CHAPINERO_OK.csv', 'CORFERIAS_OK.csv', 'FONTIBON_OK.csv', 'MARTIRES_OK.csv', 'RAFAEL_URIBE_URIBE_OK.csv', 'SANTA_FE_OK.csv', 'SUMAPAZ_OK.csv', 'TUNJUELITO_OK.csv']\n"
     ]
    }
   ],
   "source": [
    "#Inicializo las columnas con los nombres de las localidades que ya tienen datos\n",
    "localidades=os.listdir(\"Votaciones_localidades\")\n",
    "Nombreslocalidades=[]\n",
    "for i in localidades:\n",
    "    Nombreslocalidades.append(i[:-7])\n",
    "df1 = pd.DataFrame(columns=[Nombreslocalidades])\n",
    "df1= df1.rename_axis(None)\n",
    "print (localidades)"
   ]
  },
  {
   "cell_type": "code",
   "execution_count": 4,
   "metadata": {
    "collapsed": false
   },
   "outputs": [],
   "source": [
    "#Algoritmo que ingresa los datos a la tabla, la tabla solo contiene las localidades reportadas.\n",
    "Index=('P_Liberal','P_Conservador','P_Opcion_Ciudadana','P_Cambio_Radical','P_Alianza_Verde','P_MIRA','P_de_la_U','Polo','P_Centro_Democratico','P_SOMOS','FARC','Colombia_Justa_Libres','SI_SE_PUEDE',\"Union_con_Fortaleza\",\"Todos_somos_Colombia\",'Coalicion_Decencia','Voto_Blanco_Nacional','AICO','ASI','MAIS','SOBERANIA','MIA','RenovacionEtnica','CASIYOUREN','Voto_Blanco_Indigena','Nulos','No_Marcados',\"Potencial votantes\", \"Referencia\")\n",
    "for i in localidades:\n",
    "    temp=pd.read_csv(\"Votaciones_localidades/\"+str(i))\n",
    "    temp.index = Index\n",
    "    df1[str(i[:-7])] = temp.iloc[:-1,1].apply(pd.to_numeric)"
   ]
  },
  {
   "cell_type": "code",
   "execution_count": 51,
   "metadata": {
    "collapsed": false
   },
   "outputs": [
    {
     "data": {
      "text/plain": [
       "P_Liberal                 7.256760\n",
       "P_Conservador             3.949256\n",
       "P_Opcion_Ciudadana        1.096714\n",
       "P_Cambio_Radical          8.019531\n",
       "P_Alianza_Verde          21.485097\n",
       "P_MIRA                    4.152533\n",
       "P_de_la_U                 4.714132\n",
       "Polo                      6.634477\n",
       "P_Centro_Democratico     18.573623\n",
       "P_SOMOS                   0.878704\n",
       "FARC                      0.496178\n",
       "Colombia_Justa_Libres     4.352653\n",
       "SI_SE_PUEDE               0.093834\n",
       "Union_con_Fortaleza       0.122948\n",
       "Todos_somos_Colombia      0.390593\n",
       "Coalicion_Decencia        9.693980\n",
       "Voto_Blanco_Nacional      8.088986\n",
       "dtype: float64"
      ]
     },
     "execution_count": 51,
     "metadata": {},
     "output_type": "execute_result"
    }
   ],
   "source": [
    "#Porcentaje voto valido con datos escrutados\n",
    "a=df1.sum(axis=1)[:-11]\n",
    "b=a.sum()\n",
    "c=100*a/b\n",
    "c"
   ]
  },
  {
   "cell_type": "code",
   "execution_count": null,
   "metadata": {
    "collapsed": false
   },
   "outputs": [],
   "source": []
  },
  {
   "cell_type": "code",
   "execution_count": null,
   "metadata": {
    "collapsed": true
   },
   "outputs": [],
   "source": []
  },
  {
   "cell_type": "code",
   "execution_count": null,
   "metadata": {
    "collapsed": true
   },
   "outputs": [],
   "source": []
  }
 ],
 "metadata": {
  "kernelspec": {
   "display_name": "Python 3",
   "language": "python",
   "name": "python3"
  }
 },
 "nbformat": 4,
 "nbformat_minor": 2
}
