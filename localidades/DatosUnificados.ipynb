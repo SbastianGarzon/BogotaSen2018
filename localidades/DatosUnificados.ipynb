{
 "cells": [
  {
   "cell_type": "code",
   "execution_count": 20,
   "metadata": {
    "collapsed": false
   },
   "outputs": [
    {
     "name": "stdout",
     "output_type": "stream",
     "text": [
      "Populating the interactive namespace from numpy and matplotlib\n"
     ]
    }
   ],
   "source": [
    "%pylab inline\n",
    "import pandas as pd\n",
    "import os "
   ]
  },
  {
   "cell_type": "markdown",
   "metadata": {},
   "source": [
    "Construcción base de datos:"
   ]
  },
  {
   "cell_type": "code",
   "execution_count": 21,
   "metadata": {
    "collapsed": false
   },
   "outputs": [],
   "source": [
    "#Inicializo las columnas con los nombres de las localidades que ya tienen datos\n",
    "localidades=os.listdir(\"Votaciones_localidades\")\n",
    "Nombreslocalidades=[]\n",
    "for i in localidades:\n",
    "    Nombreslocalidades.append(i[:-7])\n",
    "df1 = pd.DataFrame(columns=[Nombreslocalidades])\n",
    "df1= df1.rename_axis(None)\n"
   ]
  },
  {
   "cell_type": "code",
   "execution_count": 22,
   "metadata": {
    "collapsed": false
   },
   "outputs": [],
   "source": [
    "#Algoritmo que ingresa los datos a la tabla, la tabla solo contiene las localidades reportadas.\n",
    "Index=('P_Liberal','P_Conservador','P_Opcion_Ciudadana','P_Cambio_Radical','P_Alianza_Verde','P_MIRA','P_de_la_U','Polo','P_Centro_Democratico','P_SOMOS','FARC','Colombia_Justa_Libres','SI_SE_PUEDE',\"Union_con_Fortaleza\",\"Todos_somos_Colombia\",'Coalicion_Decencia','Voto_Blanco_Nacional','AICO','ASI','MAIS','SOBERANIA','MIA','RenovacionEtnica','CASIYOUREN','Voto_Blanco_Indigena','Nulos','No_Marcados',\"Potencial votantes\", \"Referencia\")\n",
    "for i in localidades:\n",
    "    temp=pd.read_csv(\"Votaciones_localidades/\"+str(i))\n",
    "    temp.index = Index\n",
    "    df1[str(i[:-7])] = temp.iloc[:-1,1].apply(pd.to_numeric)"
   ]
  },
  {
   "cell_type": "markdown",
   "metadata": {},
   "source": [
    "## Base de datos completa"
   ]
  },
  {
   "cell_type": "code",
   "execution_count": 23,
   "metadata": {
    "collapsed": false
   },
   "outputs": [],
   "source": [
    "#Suma el total de cada Item en Bogotá y genera un archivo CSV con la información\n",
    "df1[\"Total Bogota\"]=df1.sum(axis=1)\n",
    "df1.to_csv(\"../Bogota/Votacion_Bogota_Unificada.csv\")"
   ]
  },
  {
   "cell_type": "markdown",
   "metadata": {
    "collapsed": false
   },
   "source": [
    "## Circunscripcion nacional"
   ]
  },
  {
   "cell_type": "code",
   "execution_count": 24,
   "metadata": {
    "collapsed": false
   },
   "outputs": [],
   "source": [
    "dfn=df1[:-11]\n",
    "dfn.to_csv(\"../Bogota/Circunscripcion_Nacional_Bogota.csv\")"
   ]
  },
  {
   "cell_type": "markdown",
   "metadata": {},
   "source": [
    "## Circunscripcion Indigena"
   ]
  },
  {
   "cell_type": "code",
   "execution_count": 25,
   "metadata": {
    "collapsed": false
   },
   "outputs": [],
   "source": [
    "dfi=df1[-11:-3]\n",
    "dfi.to_csv(\"../Bogota/Circunscripcion_Indigena_Bogota.csv\")"
   ]
  },
  {
   "cell_type": "code",
   "execution_count": null,
   "metadata": {
    "collapsed": true
   },
   "outputs": [],
   "source": []
  }
 ],
 "metadata": {
  "kernelspec": {
   "display_name": "Python 3",
   "language": "python",
   "name": "python3"
  },
  "language_info": {
   "codemirror_mode": {
    "name": "ipython",
    "version": 3
   },
   "file_extension": ".py",
   "mimetype": "text/x-python",
   "name": "python",
   "nbconvert_exporter": "python",
   "pygments_lexer": "ipython3",
   "version": "3.6.0"
  }
 },
 "nbformat": 4,
 "nbformat_minor": 2
}
