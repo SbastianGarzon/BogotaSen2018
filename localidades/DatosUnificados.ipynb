{
 "cells": [
  {
   "cell_type": "code",
   "execution_count": 1,
   "metadata": {
    "collapsed": false
   },
   "outputs": [
    {
     "name": "stdout",
     "output_type": "stream",
     "text": [
      "Populating the interactive namespace from numpy and matplotlib\n"
     ]
    }
   ],
   "source": [
    "%pylab inline\n",
    "import pandas as pd\n",
    "import os "
   ]
  },
  {
   "cell_type": "markdown",
   "metadata": {},
   "source": [
    "Construcción base de datos:"
   ]
  },
  {
   "cell_type": "code",
   "execution_count": 2,
   "metadata": {
    "collapsed": false
   },
   "outputs": [],
   "source": [
    "#Inicializo las columnas con los nombres de las localidades que ya tienen datos\n",
    "localidades=os.listdir(\"Votaciones_localidades\")\n",
    "Nombreslocalidades=[]\n",
    "for i in localidades:\n",
    "    Nombreslocalidades.append(i[:-7])\n",
    "df1 = pd.DataFrame(columns=[Nombreslocalidades])\n",
    "df1= df1.rename_axis(None)"
   ]
  },
  {
   "cell_type": "code",
   "execution_count": 3,
   "metadata": {
    "collapsed": false
   },
   "outputs": [],
   "source": [
    "#Algoritmo que ingresa los datos a la tabla, la tabla solo contiene las localidades reportadas.\n",
    "Index=('P_Liberal','P_Conservador','P_Opcion_Ciudadana','P_Cambio_Radical','P_Alianza_Verde','P_MIRA','P_de_la_U','Polo','P_Centro_Democratico','P_SOMOS','FARC','Colombia_Justa_Libres','SI_SE_PUEDE',\"Union_con_Fortaleza\",\"Todos_somos_Colombia\",'Coalicion_Decencia','Voto_Blanco_Nacional','AICO','ASI','MAIS','SOBERANIA','MIA','RenovacionEtnica','CASIYOUREN','Voto_Blanco_Indigena','Nulos','No_Marcados',\"Potencial votantes\", \"Referencia\")\n",
    "for i in localidades:\n",
    "    temp=pd.read_csv(\"Votaciones_localidades/\"+str(i))\n",
    "    temp.index = Index\n",
    "    df1[str(i[:-7])] = temp.iloc[:-1,1].apply(pd.to_numeric)"
   ]
  },
  {
   "cell_type": "code",
   "execution_count": 4,
   "metadata": {
    "collapsed": false
   },
   "outputs": [
    {
     "data": {
      "text/plain": [
       "P_Liberal                 6.131043\n",
       "P_Conservador             4.074415\n",
       "P_Opcion_Ciudadana        1.129080\n",
       "P_Cambio_Radical          7.809012\n",
       "P_Alianza_Verde          22.525637\n",
       "P_MIRA                    4.525689\n",
       "P_de_la_U                 4.586081\n",
       "Polo                      6.285812\n",
       "P_Centro_Democratico     19.164078\n",
       "P_SOMOS                   0.978314\n",
       "FARC                      0.413881\n",
       "Colombia_Justa_Libres     4.631268\n",
       "SI_SE_PUEDE               0.085860\n",
       "Union_con_Fortaleza       0.136413\n",
       "Todos_somos_Colombia      0.383515\n",
       "Coalicion_Decencia        9.052103\n",
       "Voto_Blanco_Nacional      8.087800\n",
       "dtype: float64"
      ]
     },
     "execution_count": 4,
     "metadata": {},
     "output_type": "execute_result"
    }
   ],
   "source": [
    "#Porcentaje voto valido con datos escrutados\n",
    "a=df1.sum(axis=1)[:-11]\n",
    "b=a.sum()\n",
    "c=100*a/b\n",
    "c"
   ]
  },
  {
   "cell_type": "code",
   "execution_count": 8,
   "metadata": {
    "collapsed": false
   },
   "outputs": [
    {
     "data": {
      "text/plain": [
       "P_Liberal                143958\n",
       "P_Conservador             95668\n",
       "P_Opcion_Ciudadana        26511\n",
       "P_Cambio_Radical         183357\n",
       "P_Alianza_Verde          528906\n",
       "P_MIRA                   106264\n",
       "P_de_la_U                107682\n",
       "Polo                     147592\n",
       "P_Centro_Democratico     449976\n",
       "P_SOMOS                   22971\n",
       "FARC                       9718\n",
       "Colombia_Justa_Libres    108743\n",
       "SI_SE_PUEDE                2016\n",
       "Union_con_Fortaleza        3203\n",
       "Todos_somos_Colombia       9005\n",
       "Coalicion_Decencia       212545\n",
       "Voto_Blanco_Nacional     189903\n",
       "dtype: int64"
      ]
     },
     "execution_count": 8,
     "metadata": {},
     "output_type": "execute_result"
    }
   ],
   "source": [
    "a"
   ]
  },
  {
   "cell_type": "code",
   "execution_count": null,
   "metadata": {
    "collapsed": false
   },
   "outputs": [],
   "source": []
  },
  {
   "cell_type": "code",
   "execution_count": null,
   "metadata": {
    "collapsed": true
   },
   "outputs": [],
   "source": []
  }
 ],
 "metadata": {
  "kernelspec": {
   "display_name": "Python 3",
   "language": "python",
   "name": "python3"
  },
  "language_info": {
   "codemirror_mode": {
    "name": "ipython",
    "version": 3
   },
   "file_extension": ".py",
   "mimetype": "text/x-python",
   "name": "python",
   "nbconvert_exporter": "python",
   "pygments_lexer": "ipython3",
   "version": "3.6.0"
  }
 },
 "nbformat": 4,
 "nbformat_minor": 2
}
