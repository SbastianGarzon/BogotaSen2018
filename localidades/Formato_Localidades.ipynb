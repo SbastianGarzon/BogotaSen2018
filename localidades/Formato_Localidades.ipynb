{
 "cells": [
  {
   "cell_type": "code",
   "execution_count": 5,
   "metadata": {
    "collapsed": false
   },
   "outputs": [
    {
     "name": "stdout",
     "output_type": "stream",
     "text": [
      "Populating the interactive namespace from numpy and matplotlib\n"
     ]
    }
   ],
   "source": [
    "%pylab inline\n",
    "import csv"
   ]
  },
  {
   "cell_type": "code",
   "execution_count": 6,
   "metadata": {
    "collapsed": true
   },
   "outputs": [],
   "source": [
    "localidades=('USAQUEN','CHAPINERO','SANTA_FE','SAN_CRISTOBAL','USME','TUNJUELITO','BOSA','KENNEDY','FONTIBON','ENGATIVA','SUBA','BARRIOS_UNIDOS','TEUSAQUILLO','MARTIRES','ANTONIO_NARINO','PUENTE ARANDA','CANDELARIA','RAFAEL_URIBE_URIBE','CIUDAD_BOLIVAR','SUMAPAZ','CORFERIAS','CARCELES')\n",
    "partidos=('P_Liberal','P_Conservador','P_Opcion_Ciudadana','P_Cambio_Radical','P_Alianza_Verde','P_MIRA','P_de_la_U','Polo','P_Centro_Democratico','P_SOMOS','FARC','Colombia_Justa_Libres','SI_SE_PUEDE',\"Union_con_Fortaleza\",\"Todos_somos_Colombia\",'Coalicion_Decencia','Voto_Blanco_Nacional','AICO','ASI','MAIS','SOBERANIA','MIA','RenovacionEtnica','CASIYOUREN','Voto_Blanco_Indigena','Nulos','No_Marcados','Potencial Votantes', 'Referencia:')"
   ]
  },
  {
   "cell_type": "code",
   "execution_count": 7,
   "metadata": {
    "collapsed": false
   },
   "outputs": [],
   "source": [
    "for i in localidades:\n",
    "    with open(\"SinDatos/\"+str(i)+'.csv', 'w',newline='') as myfile:\n",
    "        write=csv.writer(myfile, delimiter=',')\n",
    "        write.writerow(['Localidad:'+str(i),\"Votacion:\"])\n",
    "        for l in range (len(partidos)):\n",
    "            write.writerow([partidos[l],\"-\"])"
   ]
  },
  {
   "cell_type": "code",
   "execution_count": null,
   "metadata": {
    "collapsed": true
   },
   "outputs": [],
   "source": []
  }
 ],
 "metadata": {
  "kernelspec": {
   "display_name": "Python 3",
   "language": "python",
   "name": "python3"
  },
  "language_info": {
   "codemirror_mode": {
    "name": "ipython",
    "version": 3
   },
   "file_extension": ".py",
   "mimetype": "text/x-python",
   "name": "python",
   "nbconvert_exporter": "python",
   "pygments_lexer": "ipython3",
   "version": "3.6.0"
  }
 },
 "nbformat": 4,
 "nbformat_minor": 2
}
